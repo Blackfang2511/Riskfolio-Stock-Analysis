{
 "cells": [
  {
   "cell_type": "markdown",
   "id": "4f50f30e-a8e9-423f-93e2-28da8fd80d82",
   "metadata": {},
   "source": [
    "<h1>Building a Portfolio of Bank and Technology related stocks and equties</h1>"
   ]
  },
  {
   "cell_type": "code",
   "execution_count": 9,
   "id": "68d4fbed-f7aa-4720-8bdf-08103a06ad03",
   "metadata": {},
   "outputs": [
    {
     "name": "stdout",
     "output_type": "stream",
     "text": [
      "^C\n",
      "Note: you may need to restart the kernel to use updated packages.\n"
     ]
    }
   ],
   "source": [
    "pip install Riskfolio-Lib"
   ]
  },
  {
   "cell_type": "code",
   "execution_count": 1,
   "id": "682cdc61-8d98-4223-90c6-0669a03387a5",
   "metadata": {},
   "outputs": [
    {
     "name": "stderr",
     "output_type": "stream",
     "text": [
      "C:\\Users\\vssha\\anaconda3\\lib\\site-packages\\pandas\\core\\computation\\expressions.py:21: UserWarning: Pandas requires version '2.8.4' or newer of 'numexpr' (version '2.8.3' currently installed).\n",
      "  from pandas.core.computation.check import NUMEXPR_INSTALLED\n",
      "C:\\Users\\vssha\\anaconda3\\lib\\site-packages\\pandas\\core\\arrays\\masked.py:60: UserWarning: Pandas requires version '1.3.6' or newer of 'bottleneck' (version '1.3.5' currently installed).\n",
      "  from pandas.core import (\n"
     ]
    },
    {
     "ename": "ModuleNotFoundError",
     "evalue": "No module named 'riskfolio'",
     "output_type": "error",
     "traceback": [
      "\u001b[1;31m---------------------------------------------------------------------------\u001b[0m",
      "\u001b[1;31mModuleNotFoundError\u001b[0m                       Traceback (most recent call last)",
      "\u001b[1;32m~\\AppData\\Local\\Temp\\ipykernel_7564\\1096161787.py\u001b[0m in \u001b[0;36m<module>\u001b[1;34m\u001b[0m\n\u001b[0;32m      1\u001b[0m \u001b[1;32mimport\u001b[0m \u001b[0mpandas\u001b[0m \u001b[1;32mas\u001b[0m \u001b[0mpd\u001b[0m\u001b[1;33m\u001b[0m\u001b[1;33m\u001b[0m\u001b[0m\n\u001b[0;32m      2\u001b[0m \u001b[1;32mimport\u001b[0m \u001b[0myfinance\u001b[0m \u001b[1;32mas\u001b[0m \u001b[0myf\u001b[0m\u001b[1;33m\u001b[0m\u001b[1;33m\u001b[0m\u001b[0m\n\u001b[1;32m----> 3\u001b[1;33m \u001b[1;32mimport\u001b[0m \u001b[0mriskfolio\u001b[0m \u001b[1;32mas\u001b[0m \u001b[0mrp\u001b[0m\u001b[1;33m\u001b[0m\u001b[1;33m\u001b[0m\u001b[0m\n\u001b[0m",
      "\u001b[1;31mModuleNotFoundError\u001b[0m: No module named 'riskfolio'"
     ]
    }
   ],
   "source": [
    "import pandas as pd\n",
    "import yfinance as yf\n",
    "import riskfolio as rp\n"
   ]
  },
  {
   "cell_type": "code",
   "execution_count": 3,
   "id": "9ef171af-8b6a-4415-aac1-1edaac2070e6",
   "metadata": {},
   "outputs": [
    {
     "name": "stderr",
     "output_type": "stream",
     "text": [
      "[*********************100%%**********************]  10 of 10 completed\n"
     ]
    }
   ],
   "source": [
    "# Define the list of NASDAQ tickers to consider\n",
    "nasdaq_tickers = ['AAPL', 'MSFT', 'GOOGL', 'AMZN', 'CTSH', 'JNJ', 'V', 'JPM', 'PG', 'BRK-B']\n",
    "\n",
    "# Define the date range for historical data\n",
    "start_date = '2014-01-01'\n",
    "end_date = '2024-01-01'\n",
    "\n",
    "# Fetch historical price data for each ticker\n",
    "prices = yf.download(nasdaq_tickers, start=start_date, end=end_date)['Adj Close']\n",
    "\n",
    "# Calculate returns over a specified period (e.g., 12 months)\n",
    "returns = prices.pct_change(252) * 100  # 252 trading days in a year\n",
    "\n",
    "# Calculate momentum for each stock (e.g., average annualized return over the past 12 months)\n",
    "momentum = returns.mean()\n",
    "\n",
    "# Rank stocks based on momentum (higher momentum = higher rank)\n",
    "ranked_assets = momentum.sort_values(ascending=False)\n",
    "\n",
    "# Select the top 10 assets with the highest momentum for trading\n",
    "top_assets = ranked_assets.head(10)\n"
   ]
  },
  {
   "cell_type": "code",
   "execution_count": 6,
   "id": "0915fd0f-8ce0-4f03-b7b1-2df616960dfb",
   "metadata": {},
   "outputs": [
    {
     "data": {
      "text/plain": [
       "Ticker\n",
       "AAPL     30.864746\n",
       "AMZN     30.533860\n",
       "MSFT     28.830468\n",
       "GOOGL    20.083380\n",
       "V        19.236284\n",
       "JPM      16.460079\n",
       "BRK-B    12.123527\n",
       "PG       10.914306\n",
       "JNJ       8.674506\n",
       "CTSH      6.373050\n",
       "dtype: float64"
      ]
     },
     "execution_count": 6,
     "metadata": {},
     "output_type": "execute_result"
    }
   ],
   "source": [
    "top_assets"
   ]
  },
  {
   "cell_type": "code",
   "execution_count": 7,
   "id": "113ae3f3-0649-4adc-bd99-251df8fe658e",
   "metadata": {},
   "outputs": [
    {
     "data": {
      "text/plain": [
       "Ticker\n",
       "AAPL     30.864746\n",
       "AMZN     30.533860\n",
       "MSFT     28.830468\n",
       "GOOGL    20.083380\n",
       "V        19.236284\n",
       "JPM      16.460079\n",
       "BRK-B    12.123527\n",
       "PG       10.914306\n",
       "JNJ       8.674506\n",
       "CTSH      6.373050\n",
       "dtype: float64"
      ]
     },
     "execution_count": 7,
     "metadata": {},
     "output_type": "execute_result"
    }
   ],
   "source": [
    "ranked_assets"
   ]
  },
  {
   "cell_type": "code",
   "execution_count": 18,
   "id": "2f3439e6-b582-468d-b354-4aa103efb73f",
   "metadata": {},
   "outputs": [
    {
     "name": "stdout",
     "output_type": "stream",
     "text": [
      "AAPL 142.07177734375 12 2304.2902221679688 2304.2902221679688\n",
      "MSFT 270.8133850097656 6 2252.0753173828125 4556.365539550781\n",
      "AMZN 185.92750549316406 9 1367.4600219726562 5923.8255615234375\n",
      "GOOGL 126.97550201416016 14 1955.6600341796875 7879.485595703125\n",
      "V 233.05967712402344 7 1819.0581359863281 9698.543731689453\n",
      "JPM 146.08309936523438 12 2016.9254150390625 11715.469146728516\n",
      "BRK-B 280.1099853515625 6 2139.9600219726562 13855.429168701172\n",
      "PG 127.25955200195312 14 2025.6051330566406 15881.034301757812\n",
      "JNJ 157.10105895996094 11 1711.1478881835938 17592.182189941406\n",
      "CTSH 66.35792541503906 27 2031.468406677246 19623.650596618652\n",
      "Portfolio Value after 12 months (Buy and Hold Strategy): $ 19623.650596618652\n"
     ]
    }
   ],
   "source": [
    "\n",
    "# Define initial investment amount and number of shares to buy for each asset\n",
    "initial_investment = 18000  # USD\n",
    "number_of_assets = len(top_assets)\n",
    "investment_per_asset = initial_investment / number_of_assets\n",
    "\n",
    "# Buy and hold strategy: Invest equally in each selected asset\n",
    "portfolio_value = 0\n",
    "for asset, momentum_score in top_assets.items():\n",
    "    asset_price = prices[asset].iloc[-623]  # Get the latest price\n",
    "    shares_to_buy = int(investment_per_asset / asset_price)\n",
    "    asset_value = shares_to_buy * (prices[asset].iloc[-1])\n",
    "    portfolio_value += asset_value\n",
    "    print(asset,asset_price,shares_to_buy,asset_value,portfolio_value)\n",
    "\n",
    "# Display portfolio value\n",
    "print(\"Portfolio Value after 12 months (Buy and Hold Strategy): $\", portfolio_value)\n"
   ]
  },
  {
   "cell_type": "code",
   "execution_count": null,
   "id": "f45c81d6-514c-461c-9b6c-d6a1667605f8",
   "metadata": {},
   "outputs": [],
   "source": [
    "# Risk Measures available:\n",
    "#\n",
    "# 'MV': Standard Deviation.\n",
    "# 'MAD': Mean Absolute Deviation.\n",
    "# 'MSV': Semi Standard Deviation.\n",
    "# 'FLPM': First Lower Partial Moment (Omega Ratio).\n",
    "# 'SLPM': Second Lower Partial Moment (Sortino Ratio).\n",
    "# 'CVaR': Conditional Value at Risk.\n",
    "# 'EVaR': Entropic Value at Risk.\n",
    "# 'RlVaR': Entropic Value at Risk.\n",
    "# 'WR': Worst Realization (Minimax)\n",
    "# 'MDD': Maximum Drawdown of uncompounded cumulative returns (Calmar Ratio).\n",
    "# 'ADD': Average Drawdown of uncompounded cumulative returns.\n",
    "# 'CDaR': Conditional Drawdown at Risk of uncompounded cumulative returns.\n",
    "# 'EDaR': Entropic Drawdown at Risk of uncompounded cumulative returns.\n",
    "# 'RlDaR': Entropic Drawdown at Risk of uncompounded cumulative returns.\n",
    "# 'UCI': Ulcer Index of uncompounded cumulative returns.\n",
    "\n",
    "rms = ['MV', 'MAD', 'MSV', 'FLPM', 'SLPM', 'CVaR',\n",
    "       'EVaR', 'WR', 'MDD', 'ADD', 'CDaR', 'UCI', 'EDaR']\n",
    "\n",
    "# Change solver to speed up calculation\n",
    "port.solvers = ['MOSEK']\n",
    "\n",
    "w_s = pd.DataFrame([])\n",
    "\n",
    "for i in rms:\n",
    "    w = port.optimization(model=model,\n",
    "                          rm=i,\n",
    "                          obj=obj,\n",
    "                          rf=rf,\n",
    "                          l=l,\n",
    "                          hist=hist)\n",
    "    w_s = pd.concat([w_s, w], axis=1)\n",
    "    \n",
    "w_s.columns = rms"
   ]
  }
 ],
 "metadata": {
  "kernelspec": {
   "display_name": "Python 3 (ipykernel)",
   "language": "python",
   "name": "python3"
  },
  "language_info": {
   "codemirror_mode": {
    "name": "ipython",
    "version": 3
   },
   "file_extension": ".py",
   "mimetype": "text/x-python",
   "name": "python",
   "nbconvert_exporter": "python",
   "pygments_lexer": "ipython3",
   "version": "3.9.13"
  }
 },
 "nbformat": 4,
 "nbformat_minor": 5
}
